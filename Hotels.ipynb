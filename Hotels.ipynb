{
 "cells": [
  {
   "cell_type": "code",
   "execution_count": 84,
   "id": "ff787295-fb30-4484-944d-8bbabbb53370",
   "metadata": {},
   "outputs": [],
   "source": [
    "from rdflib import Graph, Literal, RDF, URIRef, Namespace\n",
    "import string\n",
    "import random\n",
    "import os"
   ]
  },
  {
   "cell_type": "code",
   "execution_count": 107,
   "id": "69347da3-0686-44af-a2a1-7cec77075d48",
   "metadata": {},
   "outputs": [],
   "source": [
    "HotelsName = [''.join(random.choices(string.ascii_uppercase, k=10)) for i in range(2000)]\n",
    "CafeeName  = [''.join(random.choices(string.ascii_uppercase, k=10)) for i in range(500)]\n",
    "StoreName  = [''.join(random.choices(string.ascii_uppercase, k=10)) for i in range(500)]\n",
    "SchoolName = [''.join(random.choices(string.ascii_uppercase, k=10)) for i in range(500)]\n",
    "BanksName  = [''.join(random.choices(string.ascii_uppercase, k=10)) for i in range(500)]\n",
    "RestName   = [''.join(random.choices(string.ascii_uppercase, k=10)) for i in range(500)]\n",
    "CinemName  = [''.join(random.choices(string.ascii_uppercase, k=10)) for i in range(500)]\n",
    "CasinName  = [''.join(random.choices(string.ascii_uppercase, k=10)) for i in range(500)]\n",
    "\n",
    "placesData = {'Hotel':HotelsName,'Coffee':CafeeName,'Store':StoreName,'School':SchoolName,'Restaurant':RestName,'Bank':BanksName,'Cinema':CinemName,'Casino':CasinName}"
   ]
  },
  {
   "cell_type": "code",
   "execution_count": 150,
   "id": "bfea7a0f-164d-4d2f-90f7-8dbe153c02ba",
   "metadata": {},
   "outputs": [],
   "source": [
    "for hotelName in HotelsName:\n",
    "    hotel = Graph()\n",
    "    VOC = Namespace(\"http://www.exemple.com/vocabilaire/\")\n",
    "    OBJ = Namespace(\"http://www.exemple.com/object#\")\n",
    "    hotel.bind('voc',VOC)\n",
    "    hotel.bind('obj',OBJ)\n",
    "    \n",
    "    L  = ''.join(random.choices(['Casa','Fes','Tanja','El Jadida','Rabat','Martil','Dakhla'], k=1))\n",
    "    A  = 'RUE ' + ''.join(random.choices(string.ascii_uppercase, k=5)) + ', ' + L\n",
    "    T  = '06'   + ''.join(random.choices(string.digits, k=8))\n",
    "    H  = URIRef('http://www.' + hotelName + '.com/db.rdf')\n",
    "    hotel.add((H,RDF.type,OBJ.Hotel))\n",
    "    hotel.add((H,VOC.name,Literal(hotelName)))\n",
    "    hotel.add((H,VOC.location,Literal(L)))\n",
    "    hotel.add((H,VOC.star,Literal(random.randint(1,5))))\n",
    "    if random.randint(0,1):\n",
    "        hotel.add((H,VOC.adress,Literal(A)))\n",
    "    if random.randint(0,1):\n",
    "        hotel.add((H,VOC.tel,Literal(T)))\n",
    "    \n",
    "    numAvRooms = random.randint(0,20)\n",
    "    for i in range(numAvRooms):\n",
    "        ID = ''.join(random.choices(string.ascii_uppercase, k=15))\n",
    "        R  = URIRef(VOC[ID])\n",
    "        hotel.add((R,RDF.type,OBJ.Room))\n",
    "        hotel.add((H,VOC.has,R))\n",
    "        hotel.add((R,VOC.hasChambre,Literal(random.randint(1,3))))\n",
    "    \n",
    "    try:\n",
    "        os.makedirs('/http/www.' + hotelName + '.com')\n",
    "    except:\n",
    "        pass\n",
    "    hotel.serialize(format=\"xml\",destination='/http/www.' + hotelName + '.com/db.rdf')"
   ]
  },
  {
   "cell_type": "code",
   "execution_count": 149,
   "id": "0834dde3-043e-4ac9-9ee9-75ea45a66f8a",
   "metadata": {},
   "outputs": [],
   "source": []
  },
  {
   "cell_type": "code",
   "execution_count": 110,
   "id": "96ba7d6c-55a0-4723-9629-8dce4ebbe636",
   "metadata": {},
   "outputs": [
    {
     "data": {
      "text/plain": [
       "<Graph identifier=N83a61c98d7814d3082b6f3a9d731156c (<class 'rdflib.graph.Graph'>)>"
      ]
     },
     "execution_count": 110,
     "metadata": {},
     "output_type": "execute_result"
    }
   ],
   "source": [
    "places = Graph()\n",
    "VOC = Namespace(\"http://www.exemple.com/vocabilaire/\")\n",
    "OBJ = Namespace(\"http://www.exemple.com/object#\")\n",
    "places.bind('voc',VOC)\n",
    "places.bind('obj',OBJ)\n",
    "\n",
    "for place,names in placesData.items():\n",
    "    for name in names:\n",
    "        P  = URIRef('/http/www.' + name + '.com/db.rdf')\n",
    "        places.add((P,RDF.type,OBJ[place]))\n",
    "places.serialize(format=\"xml\",destination='places.rdf')"
   ]
  },
  {
   "cell_type": "raw",
   "id": "fd517dda-d85f-46f9-95d3-b46957399ac8",
   "metadata": {},
   "source": [
    "\n",
    "\n",
    "\n",
    "\n",
    "\n",
    "\n",
    "\n",
    "\n",
    "\n",
    "\n",
    "\n",
    "\n",
    "\n",
    "\n",
    "\n",
    "\n"
   ]
  },
  {
   "cell_type": "code",
   "execution_count": 111,
   "id": "c317f21b-c26e-421c-a88c-9fc07df50198",
   "metadata": {},
   "outputs": [
    {
     "data": {
      "text/plain": [
       "<Graph identifier=N67b07ad8cc8c41519b3937b8b4a954f8 (<class 'rdflib.graph.Graph'>)>"
      ]
     },
     "execution_count": 111,
     "metadata": {},
     "output_type": "execute_result"
    }
   ],
   "source": [
    "Places = Graph()\n",
    "Places.parse('places.rdf')"
   ]
  },
  {
   "cell_type": "code",
   "execution_count": 112,
   "id": "d4e66ccf-eef1-41e1-8ab5-4993e400b934",
   "metadata": {},
   "outputs": [
    {
     "name": "stdout",
     "output_type": "stream",
     "text": [
      "http://www.exemple.com/object#Cinema\n",
      "http://www.exemple.com/object#Hotel\n",
      "http://www.exemple.com/object#Bank\n",
      "http://www.exemple.com/object#Casino\n",
      "http://www.exemple.com/object#Restaurant\n",
      "http://www.exemple.com/object#School\n",
      "http://www.exemple.com/object#Store\n",
      "http://www.exemple.com/object#Coffee\n"
     ]
    }
   ],
   "source": [
    "q = \"\"\"\n",
    "SELECT DISTINCT ?p\n",
    "WHERE {\n",
    "    ?s rdf:type ?p\n",
    "}\n",
    "\n",
    "\"\"\"\n",
    "\n",
    "res = Places.query(q)\n",
    "for r in res:\n",
    "    print(r.p)"
   ]
  },
  {
   "cell_type": "code",
   "execution_count": 151,
   "id": "05606037-f961-43ff-9738-3a1d536d51dc",
   "metadata": {},
   "outputs": [
    {
     "data": {
      "text/plain": [
       "<Graph identifier=N569c6bd85fba4cc2bb8e8e22103f1bdd (<class 'rdflib.graph.Graph'>)>"
      ]
     },
     "execution_count": 151,
     "metadata": {},
     "output_type": "execute_result"
    }
   ],
   "source": [
    "G  = Graph()\n",
    "G.parse(location=\"/http/www.APYOUYQMKN.com/db.rdf\")\n",
    "#print(G.serialize(format='xml'))"
   ]
  },
  {
   "cell_type": "code",
   "execution_count": 152,
   "id": "a89cf189-d4c0-42fa-a642-82fea24c89a4",
   "metadata": {},
   "outputs": [],
   "source": [
    "q = \"\"\"\n",
    "SELECT ?hoteluri\n",
    "WHERE {\n",
    "    ?hoteluri rdf:type <http://www.exemple.com/object#Hotel>\n",
    "}\n",
    "\n",
    "\"\"\"\n",
    "\n",
    "res = Places.query(q)"
   ]
  },
  {
   "cell_type": "code",
   "execution_count": 153,
   "id": "2d9137ef-560a-44b7-a37e-2a9cedde4041",
   "metadata": {},
   "outputs": [],
   "source": [
    "Hotels = Graph()\n",
    "Hotels.bind('voc',\"http://www.exemple.com/vocabilaire/\")\n",
    "Hotels.bind('obj',\"http://www.exemple.com/object#\")\n",
    "for r in res:\n",
    "    g = Graph()\n",
    "    g.parse(str(r.hoteluri))\n",
    "    Hotels += g"
   ]
  },
  {
   "cell_type": "code",
   "execution_count": 154,
   "id": "a60cf189-9b93-4641-968e-e18bde4ce70f",
   "metadata": {},
   "outputs": [
    {
     "name": "stdout",
     "output_type": "stream",
     "text": [
      "http://www.PMDUFDJZUT.com/db.rdf\n",
      "http://www.VIGFIOZKPM.com/db.rdf\n",
      "http://www.EXKBGPYLYR.com/db.rdf\n",
      "http://www.HTHQQKIPIU.com/db.rdf\n",
      "http://www.IZTGUSSKKW.com/db.rdf\n",
      "http://www.HMGSERZODF.com/db.rdf\n",
      "http://www.TOUEWDOUBM.com/db.rdf\n",
      "http://www.TQFVHBFUQS.com/db.rdf\n",
      "http://www.OOREARQMQO.com/db.rdf\n",
      "http://www.TWABUPYDCX.com/db.rdf\n"
     ]
    }
   ],
   "source": [
    "q = \"\"\"\n",
    "SELECT ?hoteluri\n",
    "WHERE {\n",
    "    ?hoteluri rdf:type obj:Hotel\n",
    "} LIMIT 10\n",
    "\n",
    "\"\"\"\n",
    "\n",
    "res = Hotels.query(q)\n",
    "for r in res:\n",
    "    print(r.hoteluri)"
   ]
  },
  {
   "cell_type": "code",
   "execution_count": 157,
   "id": "a5c049cc-18c5-4d44-81dd-4db5a83c8c62",
   "metadata": {},
   "outputs": [
    {
     "name": "stdout",
     "output_type": "stream",
     "text": [
      "Hotel:  JRXMFCMMNP http://www.JRXMFCMMNP.com/db.rdf Tel: None Adress:  None\n",
      "Hotel:  GEEKKXBULE http://www.GEEKKXBULE.com/db.rdf Tel: 0690360540 Adress:  None\n",
      "Hotel:  FSNAESWXZV http://www.FSNAESWXZV.com/db.rdf Tel: 0656514320 Adress:  None\n",
      "Hotel:  ONFVABRQBK http://www.ONFVABRQBK.com/db.rdf Tel: 0684785687 Adress:  RUE PKBFT, Fes\n",
      "Hotel:  GVDTYCDPQS http://www.GVDTYCDPQS.com/db.rdf Tel: 0669388153 Adress:  RUE VIJCO, Fes\n",
      "Hotel:  EHANJCMLTL http://www.EHANJCMLTL.com/db.rdf Tel: None Adress:  RUE DAKEQ, Fes\n",
      "Hotel:  XQWPZJUZLX http://www.XQWPZJUZLX.com/db.rdf Tel: None Adress:  None\n",
      "Hotel:  LQTLRQNDDN http://www.LQTLRQNDDN.com/db.rdf Tel: None Adress:  None\n",
      "Hotel:  SOBMKOXLFO http://www.SOBMKOXLFO.com/db.rdf Tel: None Adress:  None\n",
      "Hotel:  FBXZUBYOVS http://www.FBXZUBYOVS.com/db.rdf Tel: None Adress:  None\n",
      "Hotel:  EPWVLLJEAU http://www.EPWVLLJEAU.com/db.rdf Tel: None Adress:  None\n",
      "Hotel:  MPHGXUDMTY http://www.MPHGXUDMTY.com/db.rdf Tel: 0634565550 Adress:  None\n",
      "Hotel:  LWIFOUGWFC http://www.LWIFOUGWFC.com/db.rdf Tel: None Adress:  None\n",
      "Hotel:  OBQPUNAHTI http://www.OBQPUNAHTI.com/db.rdf Tel: 0611886045 Adress:  None\n",
      "Hotel:  FXEGUGFNWA http://www.FXEGUGFNWA.com/db.rdf Tel: None Adress:  RUE HVQWE, Fes\n",
      "Hotel:  AEGDNCNJUO http://www.AEGDNCNJUO.com/db.rdf Tel: None Adress:  RUE BYVRG, Fes\n",
      "Hotel:  QHQDXJVEZX http://www.QHQDXJVEZX.com/db.rdf Tel: 0605369202 Adress:  None\n",
      "Hotel:  BEWFSFBLAR http://www.BEWFSFBLAR.com/db.rdf Tel: 0686294410 Adress:  None\n",
      "Hotel:  UDUANZWCBX http://www.UDUANZWCBX.com/db.rdf Tel: None Adress:  RUE OTHCK, Fes\n",
      "Hotel:  DHTYSEOLGW http://www.DHTYSEOLGW.com/db.rdf Tel: 0600961237 Adress:  None\n"
     ]
    }
   ],
   "source": [
    "q = \"\"\"\n",
    "SELECT DISTINCT ?hname ?huri ?tel ?ad\n",
    "WHERE {\n",
    "    ?huri rdf:type obj:Hotel.\n",
    "    ?huri voc:name ?hname.\n",
    "    ?huri voc:location \"Fes\".\n",
    "    ?huri voc:has  ?ruri.\n",
    "    ?ruri voc:hasChambre 2.\n",
    "    ?huri voc:star 5.\n",
    "    OPTIONAL {?huri voc:tel ?tel}.\n",
    "    OPTIONAL {?huri voc:adress ?ad}\n",
    "} LIMIT 20\n",
    "\n",
    "\"\"\"\n",
    "\n",
    "res = Hotels.query(q)\n",
    "for r in res:\n",
    "    print(\"Hotel: \",r.hname,r.huri,\"Tel:\",r.tel,\"Adress: \",r.ad)"
   ]
  },
  {
   "cell_type": "code",
   "execution_count": 102,
   "id": "ef938fab-bf5e-4ea2-b52a-2f6c0585fc2e",
   "metadata": {},
   "outputs": [
    {
     "name": "stdout",
     "output_type": "stream",
     "text": [
      "<?xml version=\"1.0\" encoding=\"utf-8\"?>\n",
      "<rdf:RDF\n",
      "   xmlns:rdf=\"http://www.w3.org/1999/02/22-rdf-syntax-ns#\"\n",
      "   xmlns:voc=\"http://www.exemple.com/vocabilaire/\"\n",
      ">\n",
      "  <rdf:Description rdf:about=\"file:///http/www.RJIPQSBVNI.com/db.rdf\">\n",
      "    <voc:location>Rabat</voc:location>\n",
      "    <rdf:type rdf:resource=\"http://www.exemple.com/object#Hotel\"/>\n",
      "    <voc:star rdf:datatype=\"http://www.w3.org/2001/XMLSchema#integer\">5</voc:star>\n",
      "    <voc:name>RJIPQSBVNI</voc:name>\n",
      "  </rdf:Description>\n",
      "  <rdf:Description rdf:about=\"file:///http/www.TKLCBXNEZP.com/db.rdf\">\n",
      "    <voc:has rdf:resource=\"http://www.exemple.com/vocabilaire/FFECGMJFMCVYBSN\"/>\n",
      "    <voc:has rdf:resource=\"http://www.exemple.com/vocabilaire/MXZCXRDBUCLKBDZ\"/>\n",
      "    <voc:has rdf:resource=\"http://www.exemple.com/vocabilaire/RXOCSXROFACXKLJ\"/>\n",
      "    <voc:has rdf:resource=\"http://www.exemple.com/vocabilaire/PGMHNMGQVLAQBHD\"/>\n",
      "    <voc:has rdf:resource=\"http://www.exemple.com/vocabilaire/IEFVDHGVWUKVFIK\"/>\n",
      "    <voc:has rdf:resource=\"http://www.exemple.com/vocabilaire/SURNVEZJBBCXWHV\"/>\n",
      "    <voc:has rdf:resource=\"http://www.exemple.com/vocabilaire/DYLELJDKKZEVWLG\"/>\n",
      "    <voc:has rdf:resource=\"http://www.exemple.com/vocabilaire/DYYISDMTZUBNHCF\"/>\n",
      "    <voc:has rdf:resource=\"http://www.exemple.com/vocabilaire/HTYBYTTYWGXGYCJ\"/>\n",
      "    <voc:star rdf:datatype=\"http://www.w3.org/2001/XMLSchema#integer\">2</voc:star>\n",
      "    <rdf:type rdf:resource=\"http://www.exemple.com/object#Hotel\"/>\n",
      "    <voc:location>Martil</voc:location>\n",
      "    <voc:name>TKLCBXNEZP</voc:name>\n",
      "  </rdf:Description>\n",
      "  <rdf:Description rdf:about=\"http://www.exemple.com/vocabilaire/IEFVDHGVWUKVFIK\">\n",
      "    <voc:hasChambre rdf:datatype=\"http://www.w3.org/2001/XMLSchema#integer\">2</voc:hasChambre>\n",
      "    <rdf:type rdf:resource=\"http://www.exemple.com/object#Room\"/>\n",
      "  </rdf:Description>\n",
      "  <rdf:Description rdf:about=\"file:///http/www.ONAWSNAWUM.com/db.rdf\">\n",
      "    <voc:has rdf:resource=\"http://www.exemple.com/vocabilaire/WMKORDHAWZCNYLS\"/>\n",
      "    <voc:has rdf:resource=\"http://www.exemple.com/vocabilaire/PCXFZBPIPEBBGFG\"/>\n",
      "    <voc:has rdf:resource=\"http://www.exemple.com/vocabilaire/GCIDDNXUMFGVICK\"/>\n",
      "    <voc:has rdf:resource=\"http://www.exemple.com/vocabilaire/XCLEOTNNNXYRLWC\"/>\n",
      "    <voc:has rdf:resource=\"http://www.exemple.com/vocabilaire/TPMLJAOQZNPZEEZ\"/>\n",
      "    <voc:has rdf:resource=\"http://www.exemple.com/vocabilaire/KAPHAAIENDSLPOU\"/>\n",
      "    <voc:has rdf:resource=\"http://www.exemple.com/vocabilaire/ZAIVBOJNZOAGBYO\"/>\n",
      "    <voc:has rdf:resource=\"http://www.exemple.com/vocabilaire/ERCIZORCIIQXTPA\"/>\n",
      "    <voc:has rdf:resource=\"http://www.exemple.com/vocabilaire/CLMBYKQRJDPGIHY\"/>\n",
      "    <voc:has rdf:resource=\"http://www.exemple.com/vocabilaire/ILTSSFWJYEXMNQW\"/>\n",
      "    <voc:has rdf:resource=\"http://www.exemple.com/vocabilaire/KYSTDHYZITTTPDF\"/>\n",
      "    <voc:has rdf:resource=\"http://www.exemple.com/vocabilaire/WHOXHUIXUXUJPUQ\"/>\n",
      "    <voc:has rdf:resource=\"http://www.exemple.com/vocabilaire/WEHJPMIORBVPSLW\"/>\n",
      "    <voc:has rdf:resource=\"http://www.exemple.com/vocabilaire/WLSZPVWKRADKTQB\"/>\n",
      "    <voc:has rdf:resource=\"http://www.exemple.com/vocabilaire/XOOBEIUVMGPBRHC\"/>\n",
      "    <rdf:type rdf:resource=\"http://www.exemple.com/object#Hotel\"/>\n",
      "    <voc:name>ONAWSNAWUM</voc:name>\n",
      "    <voc:star rdf:datatype=\"http://www.w3.org/2001/XMLSchema#integer\">3</voc:star>\n",
      "    <voc:location>Casa</voc:location>\n",
      "  </rdf:Description>\n",
      "  <rdf:Description rdf:about=\"file:///http/www.DQQBXEWSQH.com/db.rdf\">\n",
      "    <voc:name>DQQBXEWSQH</voc:name>\n",
      "    <rdf:type rdf:resource=\"http://www.exemple.com/object#Hotel\"/>\n",
      "    <voc:star rdf:datatype=\"http://www.w3.org/2001/XMLSchema#integer\">5</voc:star>\n",
      "    <voc:location>Rabat</voc:location>\n",
      "  </rdf:Description>\n",
      "  <rdf:Description rdf:about=\"http://www.exemple.com/vocabilaire/KYSTDHYZITTTPDF\">\n",
      "    <voc:hasChambre rdf:datatype=\"http://www.w3.org/2001/XMLSchema#integer\">3</voc:hasChambre>\n",
      "    <rdf:type rdf:resource=\"http://www.exemple.com/object#Room\"/>\n",
      "  </rdf:Description>\n",
      "  <rdf:Description rdf:about=\"http://www.exemple.com/vocabilaire/XCLEOTNNNXYRLWC\">\n",
      "    <voc:hasChambre rdf:datatype=\"http://www.w3.org/2001/XMLSchema#integer\">1</voc:hasChambre>\n",
      "    <rdf:type rdf:resource=\"http://www.exemple.com/object#Room\"/>\n",
      "  </rdf:Description>\n",
      "  <rdf:Description rdf:about=\"file:///http/www.YTWKFIGWTE.com/db.rdf\">\n",
      "    <voc:star rdf:datatype=\"http://www.w3.org/2001/XMLSchema#integer\">2</voc:star>\n",
      "    <voc:location>Rabat</voc:location>\n",
      "    <voc:name>YTWKFIGWTE</voc:name>\n",
      "    <rdf:type rdf:resource=\"http://www.exemple.com/object#Hotel\"/>\n",
      "  </rdf:Description>\n",
      "  <rdf:Description rdf:about=\"http://www.exemple.com/vocabilaire/WEHJPMIORBVPSLW\">\n",
      "    <rdf:type rdf:resource=\"http://www.exemple.com/object#Room\"/>\n",
      "    <voc:hasChambre rdf:datatype=\"http://www.w3.org/2001/XMLSchema#integer\">2</voc:hasChambre>\n",
      "  </rdf:Description>\n",
      "  <rdf:Description rdf:about=\"http://www.exemple.com/vocabilaire/TPMLJAOQZNPZEEZ\">\n",
      "    <voc:hasChambre rdf:datatype=\"http://www.w3.org/2001/XMLSchema#integer\">1</voc:hasChambre>\n",
      "    <rdf:type rdf:resource=\"http://www.exemple.com/object#Room\"/>\n",
      "  </rdf:Description>\n",
      "  <rdf:Description rdf:about=\"http://www.exemple.com/vocabilaire/PGMHNMGQVLAQBHD\">\n",
      "    <voc:hasChambre rdf:datatype=\"http://www.w3.org/2001/XMLSchema#integer\">2</voc:hasChambre>\n",
      "    <rdf:type rdf:resource=\"http://www.exemple.com/object#Room\"/>\n",
      "  </rdf:Description>\n",
      "  <rdf:Description rdf:about=\"http://www.exemple.com/vocabilaire/DYLELJDKKZEVWLG\">\n",
      "    <rdf:type rdf:resource=\"http://www.exemple.com/object#Room\"/>\n",
      "    <voc:hasChambre rdf:datatype=\"http://www.w3.org/2001/XMLSchema#integer\">3</voc:hasChambre>\n",
      "  </rdf:Description>\n",
      "  <rdf:Description rdf:about=\"http://www.exemple.com/vocabilaire/CLMBYKQRJDPGIHY\">\n",
      "    <voc:hasChambre rdf:datatype=\"http://www.w3.org/2001/XMLSchema#integer\">2</voc:hasChambre>\n",
      "    <rdf:type rdf:resource=\"http://www.exemple.com/object#Room\"/>\n",
      "  </rdf:Description>\n",
      "  <rdf:Description rdf:about=\"http://www.exemple.com/vocabilaire/WLSZPVWKRADKTQB\">\n",
      "    <rdf:type rdf:resource=\"http://www.exemple.com/object#Room\"/>\n",
      "    <voc:hasChambre rdf:datatype=\"http://www.w3.org/2001/XMLSchema#integer\">3</voc:hasChambre>\n",
      "  </rdf:Description>\n",
      "  <rdf:Description rdf:about=\"http://www.exemple.com/vocabilaire/SURNVEZJBBCXWHV\">\n",
      "    <voc:hasChambre rdf:datatype=\"http://www.w3.org/2001/XMLSchema#integer\">3</voc:hasChambre>\n",
      "    <rdf:type rdf:resource=\"http://www.exemple.com/object#Room\"/>\n",
      "  </rdf:Description>\n",
      "  <rdf:Description rdf:about=\"http://www.exemple.com/vocabilaire/MXZCXRDBUCLKBDZ\">\n",
      "    <rdf:type rdf:resource=\"http://www.exemple.com/object#Room\"/>\n",
      "    <voc:hasChambre rdf:datatype=\"http://www.w3.org/2001/XMLSchema#integer\">2</voc:hasChambre>\n",
      "  </rdf:Description>\n",
      "  <rdf:Description rdf:about=\"http://www.exemple.com/vocabilaire/GCIDDNXUMFGVICK\">\n",
      "    <rdf:type rdf:resource=\"http://www.exemple.com/object#Room\"/>\n",
      "    <voc:hasChambre rdf:datatype=\"http://www.w3.org/2001/XMLSchema#integer\">1</voc:hasChambre>\n",
      "  </rdf:Description>\n",
      "  <rdf:Description rdf:about=\"http://www.exemple.com/vocabilaire/XOOBEIUVMGPBRHC\">\n",
      "    <voc:hasChambre rdf:datatype=\"http://www.w3.org/2001/XMLSchema#integer\">3</voc:hasChambre>\n",
      "    <rdf:type rdf:resource=\"http://www.exemple.com/object#Room\"/>\n",
      "  </rdf:Description>\n",
      "  <rdf:Description rdf:about=\"http://www.exemple.com/vocabilaire/WMKORDHAWZCNYLS\">\n",
      "    <voc:hasChambre rdf:datatype=\"http://www.w3.org/2001/XMLSchema#integer\">1</voc:hasChambre>\n",
      "    <rdf:type rdf:resource=\"http://www.exemple.com/object#Room\"/>\n",
      "  </rdf:Description>\n",
      "  <rdf:Description rdf:about=\"http://www.exemple.com/vocabilaire/DYYISDMTZUBNHCF\">\n",
      "    <voc:hasChambre rdf:datatype=\"http://www.w3.org/2001/XMLSchema#integer\">1</voc:hasChambre>\n",
      "    <rdf:type rdf:resource=\"http://www.exemple.com/object#Room\"/>\n",
      "  </rdf:Description>\n",
      "  <rdf:Description rdf:about=\"http://www.exemple.com/vocabilaire/RXOCSXROFACXKLJ\">\n",
      "    <voc:hasChambre rdf:datatype=\"http://www.w3.org/2001/XMLSchema#integer\">2</voc:hasChambre>\n",
      "    <rdf:type rdf:resource=\"http://www.exemple.com/object#Room\"/>\n",
      "  </rdf:Description>\n",
      "  <rdf:Description rdf:about=\"http://www.exemple.com/vocabilaire/ERCIZORCIIQXTPA\">\n",
      "    <rdf:type rdf:resource=\"http://www.exemple.com/object#Room\"/>\n",
      "    <voc:hasChambre rdf:datatype=\"http://www.w3.org/2001/XMLSchema#integer\">3</voc:hasChambre>\n",
      "  </rdf:Description>\n",
      "  <rdf:Description rdf:about=\"http://www.exemple.com/vocabilaire/ZAIVBOJNZOAGBYO\">\n",
      "    <rdf:type rdf:resource=\"http://www.exemple.com/object#Room\"/>\n",
      "    <voc:hasChambre rdf:datatype=\"http://www.w3.org/2001/XMLSchema#integer\">1</voc:hasChambre>\n",
      "  </rdf:Description>\n",
      "  <rdf:Description rdf:about=\"http://www.exemple.com/vocabilaire/PCXFZBPIPEBBGFG\">\n",
      "    <rdf:type rdf:resource=\"http://www.exemple.com/object#Room\"/>\n",
      "    <voc:hasChambre rdf:datatype=\"http://www.w3.org/2001/XMLSchema#integer\">1</voc:hasChambre>\n",
      "  </rdf:Description>\n",
      "  <rdf:Description rdf:about=\"http://www.exemple.com/vocabilaire/FFECGMJFMCVYBSN\">\n",
      "    <rdf:type rdf:resource=\"http://www.exemple.com/object#Room\"/>\n",
      "    <voc:hasChambre rdf:datatype=\"http://www.w3.org/2001/XMLSchema#integer\">3</voc:hasChambre>\n",
      "  </rdf:Description>\n",
      "  <rdf:Description rdf:about=\"http://www.exemple.com/vocabilaire/HTYBYTTYWGXGYCJ\">\n",
      "    <rdf:type rdf:resource=\"http://www.exemple.com/object#Room\"/>\n",
      "    <voc:hasChambre rdf:datatype=\"http://www.w3.org/2001/XMLSchema#integer\">1</voc:hasChambre>\n",
      "  </rdf:Description>\n",
      "  <rdf:Description rdf:about=\"http://www.exemple.com/vocabilaire/WHOXHUIXUXUJPUQ\">\n",
      "    <voc:hasChambre rdf:datatype=\"http://www.w3.org/2001/XMLSchema#integer\">3</voc:hasChambre>\n",
      "    <rdf:type rdf:resource=\"http://www.exemple.com/object#Room\"/>\n",
      "  </rdf:Description>\n",
      "  <rdf:Description rdf:about=\"http://www.exemple.com/vocabilaire/KAPHAAIENDSLPOU\">\n",
      "    <voc:hasChambre rdf:datatype=\"http://www.w3.org/2001/XMLSchema#integer\">2</voc:hasChambre>\n",
      "    <rdf:type rdf:resource=\"http://www.exemple.com/object#Room\"/>\n",
      "  </rdf:Description>\n",
      "  <rdf:Description rdf:about=\"http://www.exemple.com/vocabilaire/ILTSSFWJYEXMNQW\">\n",
      "    <voc:hasChambre rdf:datatype=\"http://www.w3.org/2001/XMLSchema#integer\">3</voc:hasChambre>\n",
      "    <rdf:type rdf:resource=\"http://www.exemple.com/object#Room\"/>\n",
      "  </rdf:Description>\n",
      "</rdf:RDF>\n",
      "\n"
     ]
    }
   ],
   "source": [
    "print(Hotels.serialize(format=\"xml\"))"
   ]
  }
 ],
 "metadata": {
  "kernelspec": {
   "display_name": "Python 3 (ipykernel)",
   "language": "python",
   "name": "python3"
  },
  "language_info": {
   "codemirror_mode": {
    "name": "ipython",
    "version": 3
   },
   "file_extension": ".py",
   "mimetype": "text/x-python",
   "name": "python",
   "nbconvert_exporter": "python",
   "pygments_lexer": "ipython3",
   "version": "3.8.10"
  }
 },
 "nbformat": 4,
 "nbformat_minor": 5
}
